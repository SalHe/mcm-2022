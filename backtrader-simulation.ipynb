{
 "cells": [
  {
   "cell_type": "markdown",
   "metadata": {},
   "source": [
    "# 使用backtrader尝试模拟交易"
   ]
  },
  {
   "cell_type": "code",
   "execution_count": 1,
   "metadata": {},
   "outputs": [],
   "source": [
    "import pandas as pd  \n",
    "from datetime import datetime\n",
    "import backtrader as bt\n",
    "import matplotlib.pyplot as plt\n",
    "%matplotlib inline"
   ]
  },
  {
   "cell_type": "markdown",
   "metadata": {},
   "source": [
    "## 指定策略"
   ]
  },
  {
   "cell_type": "code",
   "execution_count": 5,
   "metadata": {},
   "outputs": [],
   "source": [
    "class MyStrategy(bt.Strategy):\n",
    "    \n",
    "    #全局设定交易策略的参数\n",
    "    params=(\n",
    "        ('maperiod',20),\n",
    "           )\n",
    "\n",
    "    def __init__(self):\n",
    "        #指定价格序列\n",
    "        self.dataclose=self.datas[0].close\n",
    "        # 初始化交易指令、买卖价格和手续费\n",
    "        self.order = None\n",
    "        self.buyprice = None\n",
    "        self.buycomm = None\n",
    "\n",
    "        #添加移动均线指标，内置了talib模块\n",
    "        self.sma = bt.indicators.SimpleMovingAverage(\n",
    "                      self.datas[0], period=self.params.maperiod)\n",
    "    def next(self):\n",
    "        print(self.dataclose[0], self.sma[0])\n",
    "        if self.order: # 检查是否有指令等待执行, \n",
    "            return\n",
    "        # 检查是否持仓   \n",
    "        if not self.position: # 没有持仓\n",
    "            #执行买入条件判断：收盘价格上涨突破20日均线\n",
    "            if self.dataclose[0] > self.sma[0]:\n",
    "                #执行买入\n",
    "                self.order = self.buy(size=500)         \n",
    "        else:\n",
    "            #执行卖出条件判断：收盘价格跌破20日均线\n",
    "            if self.dataclose[0] < self.sma[0]:\n",
    "                #执行卖出\n",
    "                self.order = self.sell(size=500)"
   ]
  },
  {
   "cell_type": "code",
   "execution_count": 3,
   "metadata": {},
   "outputs": [
    {
     "data": {
      "text/plain": [
       "<backtrader.feeds.csvgeneric.GenericCSVData at 0x1f92ea24940>"
      ]
     },
     "execution_count": 3,
     "metadata": {},
     "output_type": "execute_result"
    }
   ],
   "source": [
    "data = bt.feeds.GenericCSVData(\n",
    "    dataname='./predictions/all_trading_check_point_all.csv',\n",
    "\n",
    "    fromdate=datetime(2016,9,12),\n",
    "    todate=datetime(2017,9,12),\n",
    "\n",
    "    dtformat=('%Y-%m-%d'),\n",
    "\n",
    "\n",
    "    datetime=1,\n",
    "    time=-1,\n",
    "    high=-1,\n",
    "    low=-1,\n",
    "    open=-1,\n",
    "    close=2,\n",
    "    volume=-1,\n",
    "    openintreset=-1\n",
    ")\n",
    "data"
   ]
  },
  {
   "cell_type": "code",
   "execution_count": 6,
   "metadata": {},
   "outputs": [
    {
     "name": "stdout",
     "output_type": "stream",
     "text": [
      "hello\n"
     ]
    },
    {
     "data": {
      "text/plain": [
       "(1000.0, 1000.0)"
      ]
     },
     "execution_count": 6,
     "metadata": {},
     "output_type": "execute_result"
    }
   ],
   "source": [
    "cerebro = bt.Cerebro()\n",
    "cerebro.adddata(data)\n",
    "cerebro.resampledata(data,timeframe=bt.TimeFrame.Days)\n",
    "cerebro.broker.setcash(1000.0)\n",
    "cerebro.broker.setcommission(commission=0.001)\n",
    "cerebro.addstrategy(MyStrategy)\n",
    "\n",
    "assets_before = cerebro.broker.getvalue()\n",
    "cerebro.run()\n",
    "assets_after = cerebro.broker.getvalue()\n",
    "\n",
    "assets_before, assets_after"
   ]
  }
 ],
 "metadata": {
  "interpreter": {
   "hash": "c787dc7ea197f32df64bb44751e9623409c3d148bf97b0c40f220c8d8655dae4"
  },
  "kernelspec": {
   "display_name": "Python 3.8.8 ('base')",
   "language": "python",
   "name": "python3"
  },
  "language_info": {
   "codemirror_mode": {
    "name": "ipython",
    "version": 3
   },
   "file_extension": ".py",
   "mimetype": "text/x-python",
   "name": "python",
   "nbconvert_exporter": "python",
   "pygments_lexer": "ipython3",
   "version": "3.8.8"
  },
  "orig_nbformat": 4
 },
 "nbformat": 4,
 "nbformat_minor": 2
}
